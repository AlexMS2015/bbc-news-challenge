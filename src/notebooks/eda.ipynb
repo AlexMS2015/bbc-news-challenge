{
 "cells": [
  {
   "cell_type": "code",
   "execution_count": 11,
   "id": "4950d0dc-52f1-4db7-ac5c-f350d2853aaa",
   "metadata": {},
   "outputs": [],
   "source": [
    "from IPython.core.interactiveshell import InteractiveShell\n",
    "InteractiveShell.ast_node_interactivity = \"all\"\n",
    "\n",
    "import numpy as np\n",
    "import pandas as pd\n",
    "from sklearn.model_selection import train_test_split\n",
    "from sklearn.feature_extraction.text import CountVectorizer\n",
    "from matplotlib import pyplot as plt\n",
    "import seaborn as sns"
   ]
  },
  {
   "cell_type": "code",
   "execution_count": 2,
   "id": "fede0490-5747-4b74-91bc-9a387662aea5",
   "metadata": {},
   "outputs": [],
   "source": [
    "RANDOM_STATE = 2025"
   ]
  },
  {
   "cell_type": "markdown",
   "id": "746df3b3-8322-46ef-9e4e-038704268b70",
   "metadata": {},
   "source": [
    "# Load data"
   ]
  },
  {
   "cell_type": "code",
   "execution_count": 3,
   "id": "854b8746-17e9-472a-b0ed-dae22bdb9502",
   "metadata": {},
   "outputs": [
    {
     "data": {
      "text/html": [
       "<div>\n",
       "<style scoped>\n",
       "    .dataframe tbody tr th:only-of-type {\n",
       "        vertical-align: middle;\n",
       "    }\n",
       "\n",
       "    .dataframe tbody tr th {\n",
       "        vertical-align: top;\n",
       "    }\n",
       "\n",
       "    .dataframe thead th {\n",
       "        text-align: right;\n",
       "    }\n",
       "</style>\n",
       "<table border=\"1\" class=\"dataframe\">\n",
       "  <thead>\n",
       "    <tr style=\"text-align: right;\">\n",
       "      <th></th>\n",
       "      <th>category</th>\n",
       "      <th>text</th>\n",
       "    </tr>\n",
       "  </thead>\n",
       "  <tbody>\n",
       "    <tr>\n",
       "      <th>0</th>\n",
       "      <td>tech</td>\n",
       "      <td>tv future in the hands of viewers with home th...</td>\n",
       "    </tr>\n",
       "    <tr>\n",
       "      <th>1</th>\n",
       "      <td>business</td>\n",
       "      <td>worldcom boss  left books alone  former worldc...</td>\n",
       "    </tr>\n",
       "    <tr>\n",
       "      <th>2</th>\n",
       "      <td>sport</td>\n",
       "      <td>tigers wary of farrell  gamble  leicester say ...</td>\n",
       "    </tr>\n",
       "    <tr>\n",
       "      <th>3</th>\n",
       "      <td>sport</td>\n",
       "      <td>yeading face newcastle in fa cup premiership s...</td>\n",
       "    </tr>\n",
       "    <tr>\n",
       "      <th>4</th>\n",
       "      <td>entertainment</td>\n",
       "      <td>ocean s twelve raids box office ocean s twelve...</td>\n",
       "    </tr>\n",
       "    <tr>\n",
       "      <th>...</th>\n",
       "      <td>...</td>\n",
       "      <td>...</td>\n",
       "    </tr>\n",
       "    <tr>\n",
       "      <th>2220</th>\n",
       "      <td>business</td>\n",
       "      <td>cars pull down us retail figures us retail sal...</td>\n",
       "    </tr>\n",
       "    <tr>\n",
       "      <th>2221</th>\n",
       "      <td>politics</td>\n",
       "      <td>kilroy unveils immigration policy ex-chatshow ...</td>\n",
       "    </tr>\n",
       "    <tr>\n",
       "      <th>2222</th>\n",
       "      <td>entertainment</td>\n",
       "      <td>rem announce new glasgow concert us band rem h...</td>\n",
       "    </tr>\n",
       "    <tr>\n",
       "      <th>2223</th>\n",
       "      <td>politics</td>\n",
       "      <td>how political squabbles snowball it s become c...</td>\n",
       "    </tr>\n",
       "    <tr>\n",
       "      <th>2224</th>\n",
       "      <td>sport</td>\n",
       "      <td>souness delight at euro progress boss graeme s...</td>\n",
       "    </tr>\n",
       "  </tbody>\n",
       "</table>\n",
       "<p>2225 rows × 2 columns</p>\n",
       "</div>"
      ],
      "text/plain": [
       "           category                                               text\n",
       "0              tech  tv future in the hands of viewers with home th...\n",
       "1          business  worldcom boss  left books alone  former worldc...\n",
       "2             sport  tigers wary of farrell  gamble  leicester say ...\n",
       "3             sport  yeading face newcastle in fa cup premiership s...\n",
       "4     entertainment  ocean s twelve raids box office ocean s twelve...\n",
       "...             ...                                                ...\n",
       "2220       business  cars pull down us retail figures us retail sal...\n",
       "2221       politics  kilroy unveils immigration policy ex-chatshow ...\n",
       "2222  entertainment  rem announce new glasgow concert us band rem h...\n",
       "2223       politics  how political squabbles snowball it s become c...\n",
       "2224          sport  souness delight at euro progress boss graeme s...\n",
       "\n",
       "[2225 rows x 2 columns]"
      ]
     },
     "execution_count": 3,
     "metadata": {},
     "output_type": "execute_result"
    }
   ],
   "source": [
    "df = pd.read_csv(\"../../data/bbc-text.csv\")\n",
    "df"
   ]
  },
  {
   "cell_type": "markdown",
   "id": "66165d8a-df5e-430f-88f8-de56a31d57d6",
   "metadata": {},
   "source": [
    "# Data cleaning"
   ]
  },
  {
   "cell_type": "code",
   "execution_count": 4,
   "id": "e75a9f78-1504-4abf-8320-6a0d02aa9eea",
   "metadata": {},
   "outputs": [
    {
     "data": {
      "text/plain": [
       "category    0.0\n",
       "text        0.0\n",
       "dtype: float64"
      ]
     },
     "execution_count": 4,
     "metadata": {},
     "output_type": "execute_result"
    },
    {
     "data": {
      "text/plain": [
       "np.int64(0)"
      ]
     },
     "execution_count": 4,
     "metadata": {},
     "output_type": "execute_result"
    }
   ],
   "source": [
    "df.isnull().mean() # nulls\n",
    "(df[\"text\"].str.strip()==\"\").sum() # empty"
   ]
  },
  {
   "cell_type": "code",
   "execution_count": 5,
   "id": "a60a0431-f44e-4bbd-9b99-572dfdca39d9",
   "metadata": {},
   "outputs": [
    {
     "data": {
      "text/plain": [
       "np.int64(99)"
      ]
     },
     "execution_count": 5,
     "metadata": {},
     "output_type": "execute_result"
    },
    {
     "data": {
      "text/plain": [
       "np.int64(99)"
      ]
     },
     "execution_count": 5,
     "metadata": {},
     "output_type": "execute_result"
    }
   ],
   "source": [
    "# there are 99 duplicates\n",
    "df.duplicated().sum() # check duplicate category and text\n",
    "df.duplicated('text').sum() # check if text is duplicated under different categories"
   ]
  },
  {
   "cell_type": "code",
   "execution_count": 6,
   "id": "3d619d3c-7363-464c-9096-5fbf30769a69",
   "metadata": {},
   "outputs": [
    {
     "data": {
      "text/plain": [
       "(2126, 2)"
      ]
     },
     "execution_count": 6,
     "metadata": {},
     "output_type": "execute_result"
    }
   ],
   "source": [
    "df = df.drop_duplicates()\n",
    "df.shape"
   ]
  },
  {
   "cell_type": "markdown",
   "id": "163dfeb8-6533-439b-aad9-128034b4ae27",
   "metadata": {},
   "source": [
    "# Split data"
   ]
  },
  {
   "cell_type": "markdown",
   "id": "9d361bb2-ef86-48e0-ab5b-0d4b5e50386f",
   "metadata": {},
   "source": [
    "Split data prior to EDA to avoid any 'snooping' at the test set."
   ]
  },
  {
   "cell_type": "code",
   "execution_count": 7,
   "id": "92ab6503-4594-4de4-8c74-2f8f4ef9a33e",
   "metadata": {},
   "outputs": [],
   "source": [
    "X = df.text\n",
    "y = df.category\n",
    "\n",
    "X_train, X_temp, y_train, y_temp = train_test_split(\n",
    "    X,\n",
    "    y,\n",
    "    stratify=y,\n",
    "    test_size=0.30,\n",
    "    random_state=RANDOM_STATE\n",
    ")\n",
    "\n",
    "X_val, X_test, y_val, y_test = train_test_split(\n",
    "    X_temp,\n",
    "    y_temp,\n",
    "    stratify=y_temp,\n",
    "    test_size=0.5,\n",
    "    random_state=RANDOM_STATE\n",
    ")\n",
    "\n",
    "train_df = pd.DataFrame({'text': X_train, 'category': y_train})\n",
    "val_df   = pd.DataFrame({'text': X_val, 'category': y_val})\n",
    "test_df  = pd.DataFrame({'text': X_test, 'category': y_test})"
   ]
  },
  {
   "cell_type": "markdown",
   "id": "b21ea264-69bc-4234-97a6-88ad531678be",
   "metadata": {},
   "source": [
    "# Basic EDA"
   ]
  },
  {
   "cell_type": "code",
   "execution_count": 13,
   "id": "56ad3029-1560-44d5-a306-9a37fe43ecca",
   "metadata": {},
   "outputs": [
    {
     "data": {
      "text/plain": [
       "category\n",
       "business         0.229\n",
       "sport            0.229\n",
       "politics         0.188\n",
       "tech             0.180\n",
       "entertainment    0.173\n",
       "Name: proportion, dtype: float64"
      ]
     },
     "execution_count": 13,
     "metadata": {},
     "output_type": "execute_result"
    },
    {
     "data": {
      "text/plain": [
       "category\n",
       "sport            0.231\n",
       "business         0.228\n",
       "politics         0.189\n",
       "tech             0.180\n",
       "entertainment    0.174\n",
       "Name: proportion, dtype: float64"
      ]
     },
     "execution_count": 13,
     "metadata": {},
     "output_type": "execute_result"
    },
    {
     "data": {
      "text/plain": [
       "category\n",
       "business         0.231\n",
       "sport            0.231\n",
       "politics         0.186\n",
       "tech             0.180\n",
       "entertainment    0.174\n",
       "Name: proportion, dtype: float64"
      ]
     },
     "execution_count": 13,
     "metadata": {},
     "output_type": "execute_result"
    }
   ],
   "source": [
    "# check the stratification worked in the split:\n",
    "train_df.category.value_counts(normalize=True).round(3)\n",
    "val_df.category.value_counts(normalize=True).round(3)\n",
    "test_df.category.value_counts(normalize=True).round(3)"
   ]
  },
  {
   "cell_type": "code",
   "execution_count": 119,
   "id": "82133300-3978-4b1b-8ba8-301804faa0c6",
   "metadata": {},
   "outputs": [],
   "source": [
    "train_df['word_count'] = train_df['text'].str.split().str.len()\n",
    "train_df['char_count'] = train_df['text'].str.len()\n",
    "train_df['sentence_count'] = train_df['text'].str.count(r'[.!?]+')"
   ]
  },
  {
   "cell_type": "code",
   "execution_count": 120,
   "id": "04f1f282-dcc9-474f-b3e6-4f6a7650ad05",
   "metadata": {},
   "outputs": [
    {
     "data": {
      "text/html": [
       "<div>\n",
       "<style scoped>\n",
       "    .dataframe tbody tr th:only-of-type {\n",
       "        vertical-align: middle;\n",
       "    }\n",
       "\n",
       "    .dataframe tbody tr th {\n",
       "        vertical-align: top;\n",
       "    }\n",
       "\n",
       "    .dataframe thead th {\n",
       "        text-align: right;\n",
       "    }\n",
       "</style>\n",
       "<table border=\"1\" class=\"dataframe\">\n",
       "  <thead>\n",
       "    <tr style=\"text-align: right;\">\n",
       "      <th></th>\n",
       "      <th>word_count</th>\n",
       "      <th>char_count</th>\n",
       "      <th>sentence_count</th>\n",
       "    </tr>\n",
       "  </thead>\n",
       "  <tbody>\n",
       "    <tr>\n",
       "      <th>count</th>\n",
       "      <td>1557.000</td>\n",
       "      <td>1557.000</td>\n",
       "      <td>1557.000</td>\n",
       "    </tr>\n",
       "    <tr>\n",
       "      <th>mean</th>\n",
       "      <td>390.344</td>\n",
       "      <td>2262.598</td>\n",
       "      <td>19.543</td>\n",
       "    </tr>\n",
       "    <tr>\n",
       "      <th>std</th>\n",
       "      <td>255.229</td>\n",
       "      <td>1436.956</td>\n",
       "      <td>13.244</td>\n",
       "    </tr>\n",
       "    <tr>\n",
       "      <th>min</th>\n",
       "      <td>90.000</td>\n",
       "      <td>501.000</td>\n",
       "      <td>4.000</td>\n",
       "    </tr>\n",
       "    <tr>\n",
       "      <th>25%</th>\n",
       "      <td>246.000</td>\n",
       "      <td>1436.000</td>\n",
       "      <td>13.000</td>\n",
       "    </tr>\n",
       "    <tr>\n",
       "      <th>50%</th>\n",
       "      <td>332.000</td>\n",
       "      <td>1932.000</td>\n",
       "      <td>17.000</td>\n",
       "    </tr>\n",
       "    <tr>\n",
       "      <th>75%</th>\n",
       "      <td>479.000</td>\n",
       "      <td>2799.000</td>\n",
       "      <td>23.000</td>\n",
       "    </tr>\n",
       "    <tr>\n",
       "      <th>max</th>\n",
       "      <td>4492.000</td>\n",
       "      <td>25483.000</td>\n",
       "      <td>246.000</td>\n",
       "    </tr>\n",
       "  </tbody>\n",
       "</table>\n",
       "</div>"
      ],
      "text/plain": [
       "       word_count  char_count  sentence_count\n",
       "count    1557.000    1557.000        1557.000\n",
       "mean      390.344    2262.598          19.543\n",
       "std       255.229    1436.956          13.244\n",
       "min        90.000     501.000           4.000\n",
       "25%       246.000    1436.000          13.000\n",
       "50%       332.000    1932.000          17.000\n",
       "75%       479.000    2799.000          23.000\n",
       "max      4492.000   25483.000         246.000"
      ]
     },
     "execution_count": 120,
     "metadata": {},
     "output_type": "execute_result"
    }
   ],
   "source": [
    "train_df[['word_count', 'char_count', 'sentence_count']].describe().round(3)"
   ]
  },
  {
   "cell_type": "code",
   "execution_count": 8,
   "id": "ee5a96c7-3f56-44b5-b3b2-545ce77689fa",
   "metadata": {},
   "outputs": [
    {
     "data": {
      "text/plain": [
       "36560"
      ]
     },
     "execution_count": 8,
     "metadata": {},
     "output_type": "execute_result"
    }
   ],
   "source": [
    "# 36,962 unique words in the data\n",
    "unique_words = set()\n",
    "for text in train_df.text:\n",
    "    unique_words.update(text.split())\n",
    "len(unique_words)"
   ]
  },
  {
   "cell_type": "code",
   "execution_count": 9,
   "id": "f9722c51-8268-4fed-a93f-27b4111dde9f",
   "metadata": {},
   "outputs": [],
   "source": [
    "# cumsum = word_counts.value_counts(normalize=True).sort_index().cumsum()\n",
    "# cumsum.plot()"
   ]
  },
  {
   "cell_type": "code",
   "execution_count": 26,
   "id": "b70f3c2d-2d67-47ef-a280-21a8473ca1fe",
   "metadata": {},
   "outputs": [],
   "source": [
    "# pd.DataFrame(vec.fit_transform(train_df.text).toarray()).nunique().sort_values(ascending=False) # document counts"
   ]
  },
  {
   "cell_type": "code",
   "execution_count": 35,
   "id": "633b335b-1a10-406b-91ea-621755af380b",
   "metadata": {},
   "outputs": [
    {
     "data": {
      "text/plain": [
       "<Axes: ylabel='Proportion'>"
      ]
     },
     "execution_count": 35,
     "metadata": {},
     "output_type": "execute_result"
    },
    {
     "data": {
      "image/png": "[encoded data removed]",
      "text/plain": [
       "<Figure size 640x480 with 1 Axes>"
      ]
     },
     "metadata": {},
     "output_type": "display_data"
    },
    {
     "data": {
      "text/plain": [
       "<Axes: ylabel='Proportion'>"
      ]
     },
     "execution_count": 35,
     "metadata": {},
     "output_type": "execute_result"
    },
    {
     "data": {
      "text/plain": [
       "(0.0, 100.0)"
      ]
     },
     "execution_count": 35,
     "metadata": {},
     "output_type": "execute_result"
    },
    {
     "data": {
      "image/png": "[encoded data removed]",
      "text/plain": [
       "<Figure size 640x480 with 1 Axes>"
      ]
     },
     "metadata": {},
     "output_type": "display_data"
    }
   ],
   "source": [
    "vec = CountVectorizer(\n",
    "    stop_words='english',\n",
    "    # max_features=20000,\n",
    "    min_df=2,           # Ignore words appearing in <2 documents\n",
    "    max_df=0.95,        # Ignore words appearing in >95% of documents\n",
    "    lowercase=True,     # Normalize case\n",
    "    token_pattern=r'\\b[a-zA-Z]{2,}\\b'  # Only alphabetic words, 2+ chars\n",
    ");\n",
    "word_counts = pd.Series(\n",
    "    vec.fit_transform(train_df.text)\n",
    "    .toarray()\n",
    "    .sum(axis=0)\n",
    ")\n",
    "sns.histplot(word_counts, stat='proportion')\n",
    "# plt.xlim(0,100)\n",
    "plt.show()\n",
    "\n",
    "sns.ecdfplot(word_counts)\n",
    "plt.xlim(0,100)\n",
    "plt.grid()"
   ]
  },
  {
   "cell_type": "markdown",
   "id": "1e467f14-22a6-4d68-b813-5c2546ccf1e7",
   "metadata": {},
   "source": [
    "# EDA by category"
   ]
  },
  {
   "cell_type": "code",
   "execution_count": 117,
   "id": "e0d4d6ae-7b37-4afc-b928-5df8f752d38a",
   "metadata": {},
   "outputs": [
    {
     "data": {
      "text/html": [
       "<div>\n",
       "<style scoped>\n",
       "    .dataframe tbody tr th:only-of-type {\n",
       "        vertical-align: middle;\n",
       "    }\n",
       "\n",
       "    .dataframe tbody tr th {\n",
       "        vertical-align: top;\n",
       "    }\n",
       "\n",
       "    .dataframe thead th {\n",
       "        text-align: right;\n",
       "    }\n",
       "</style>\n",
       "<table border=\"1\" class=\"dataframe\">\n",
       "  <thead>\n",
       "    <tr style=\"text-align: right;\">\n",
       "      <th></th>\n",
       "      <th>word_count</th>\n",
       "      <th>char_count</th>\n",
       "      <th>sentence_count</th>\n",
       "    </tr>\n",
       "    <tr>\n",
       "      <th>category</th>\n",
       "      <th></th>\n",
       "      <th></th>\n",
       "      <th></th>\n",
       "    </tr>\n",
       "  </thead>\n",
       "  <tbody>\n",
       "    <tr>\n",
       "      <th>business</th>\n",
       "      <td>327.574</td>\n",
       "      <td>1944.487</td>\n",
       "      <td>18.126</td>\n",
       "    </tr>\n",
       "    <tr>\n",
       "      <th>sport</th>\n",
       "      <td>335.927</td>\n",
       "      <td>1893.689</td>\n",
       "      <td>17.120</td>\n",
       "    </tr>\n",
       "    <tr>\n",
       "      <th>entertainment</th>\n",
       "      <td>344.781</td>\n",
       "      <td>1963.619</td>\n",
       "      <td>17.274</td>\n",
       "    </tr>\n",
       "    <tr>\n",
       "      <th>politics</th>\n",
       "      <td>454.599</td>\n",
       "      <td>2645.863</td>\n",
       "      <td>20.880</td>\n",
       "    </tr>\n",
       "    <tr>\n",
       "      <th>tech</th>\n",
       "      <td>516.231</td>\n",
       "      <td>3024.438</td>\n",
       "      <td>25.214</td>\n",
       "    </tr>\n",
       "  </tbody>\n",
       "</table>\n",
       "</div>"
      ],
      "text/plain": [
       "               word_count  char_count  sentence_count\n",
       "category                                             \n",
       "business          327.574    1944.487          18.126\n",
       "sport             335.927    1893.689          17.120\n",
       "entertainment     344.781    1963.619          17.274\n",
       "politics          454.599    2645.863          20.880\n",
       "tech              516.231    3024.438          25.214"
      ]
     },
     "execution_count": 117,
     "metadata": {},
     "output_type": "execute_result"
    }
   ],
   "source": [
    "# politics and tech has notably more words per article on average\n",
    "(\n",
    "    train_df.groupby('category')[['word_count', 'char_count', 'sentence_count']]\n",
    "    .mean()\n",
    "    .sort_values('word_count')\n",
    "    .round(3)\n",
    ")"
   ]
  },
  {
   "cell_type": "code",
   "execution_count": 48,
   "id": "98bd349f-64e5-4510-9149-2b1e009143db",
   "metadata": {},
   "outputs": [
    {
     "data": {
      "image/png": "[encoded data removed]",
      "text/plain": [
       "<Figure size 640x480 with 1 Axes>"
      ]
     },
     "metadata": {},
     "output_type": "display_data"
    }
   ],
   "source": [
    "train_df.groupby('category').word_count.hist(alpha=0.2, legend=True, density=True);"
   ]
  },
  {
   "cell_type": "code",
   "execution_count": 113,
   "id": "5870cdd9-62da-4493-a8f5-1233294c30c6",
   "metadata": {},
   "outputs": [
    {
     "data": {
      "text/plain": [
       "<Axes: ylabel='word'>"
      ]
     },
     "execution_count": 113,
     "metadata": {},
     "output_type": "execute_result"
    },
    {
     "data": {
      "text/plain": [
       "Text(0.5, 1.0, 'tech')"
      ]
     },
     "execution_count": 113,
     "metadata": {},
     "output_type": "execute_result"
    },
    {
     "data": {
      "text/plain": [
       "<Axes: ylabel='word'>"
      ]
     },
     "execution_count": 113,
     "metadata": {},
     "output_type": "execute_result"
    },
    {
     "data": {
      "text/plain": [
       "Text(0.5, 1.0, 'business')"
      ]
     },
     "execution_count": 113,
     "metadata": {},
     "output_type": "execute_result"
    },
    {
     "data": {
      "text/plain": [
       "<Axes: ylabel='word'>"
      ]
     },
     "execution_count": 113,
     "metadata": {},
     "output_type": "execute_result"
    },
    {
     "data": {
      "text/plain": [
       "Text(0.5, 1.0, 'sport')"
      ]
     },
     "execution_count": 113,
     "metadata": {},
     "output_type": "execute_result"
    },
    {
     "data": {
      "text/plain": [
       "<Axes: ylabel='word'>"
      ]
     },
     "execution_count": 113,
     "metadata": {},
     "output_type": "execute_result"
    },
    {
     "data": {
      "text/plain": [
       "Text(0.5, 1.0, 'entertainment')"
      ]
     },
     "execution_count": 113,
     "metadata": {},
     "output_type": "execute_result"
    },
    {
     "data": {
      "text/plain": [
       "<Axes: ylabel='word'>"
      ]
     },
     "execution_count": 113,
     "metadata": {},
     "output_type": "execute_result"
    },
    {
     "data": {
      "text/plain": [
       "Text(0.5, 1.0, 'politics')"
      ]
     },
     "execution_count": 113,
     "metadata": {},
     "output_type": "execute_result"
    },
    {
     "data": {
      "image/png": "[encoded data removed]",
      "text/plain": [
       "<Figure size 2000x1500 with 6 Axes>"
      ]
     },
     "metadata": {},
     "output_type": "display_data"
    }
   ],
   "source": [
    "# there appear to be strong differences in top words per category so the classes may be reasonable separable for even a simple model with TFIDF features\n",
    "\n",
    "fig, ax = plt.subplots(ncols=3, nrows=2, figsize=(20,15))\n",
    "plt.subplots_adjust(hspace=0.25)\n",
    "\n",
    "top_words_cat = {}\n",
    "for i, cat in enumerate(df.category.unique()):\n",
    "    vec = CountVectorizer(stop_words='english', max_features=10);\n",
    "    word_counts = vec.fit_transform(train_df.loc[train_df.category==cat, 'text']);\n",
    "    word_counts_tot = word_counts.toarray().sum(axis=0)\n",
    "    top_words = vec.get_feature_names_out()\n",
    "    row, col = np.divmod(i, 3)\n",
    "    (\n",
    "        pd.DataFrame({'word': top_words, 'count': word_counts_tot})\n",
    "        .set_index('word')\n",
    "        .sort_values('count')\n",
    "        .plot(kind='barh', ax=ax[row, col])\n",
    "    )\n",
    "    ax[row, col].set_title(cat)"
   ]
  },
  {
   "cell_type": "code",
   "execution_count": null,
   "id": "f096612d-f68b-413c-9b97-c179585cd68b",
   "metadata": {},
   "outputs": [],
   "source": []
  }
 ],
 "metadata": {
  "kernelspec": {
   "display_name": "BBC News",
   "language": "python",
   "name": "bbc-news"
  },
  "language_info": {
   "codemirror_mode": {
    "name": "ipython",
    "version": 3
   },
   "file_extension": ".py",
   "mimetype": "text/x-python",
   "name": "python",
   "nbconvert_exporter": "python",
   "pygments_lexer": "ipython3",
   "version": "3.12.3"
  }
 },
 "nbformat": 4,
 "nbformat_minor": 5
}
